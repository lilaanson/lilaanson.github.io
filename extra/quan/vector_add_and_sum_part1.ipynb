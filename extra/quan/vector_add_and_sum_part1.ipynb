{
 "cells": [
  {
   "cell_type": "markdown",
   "metadata": {},
   "source": [
    "## Vector addition and summation "
   ]
  },
  {
   "cell_type": "markdown",
   "metadata": {},
   "source": [
    "Please implement the following functions in a new file: vector_add_sum_part2.py <br>\n",
    "Please implement two test cases for each function (for a total of six test cases)\n",
    "1. The function takes two vectors, a and b, of the same dimensionality and returns a vector c, which is the addition of the two vectors (c = a+b)\n",
    "2. The function takes a vector and returns the sum of the elements of a the vector\n",
    "3. The function takes a vector and returns its euclidean norm."
   ]
  },
  {
   "cell_type": "code",
   "execution_count": null,
   "metadata": {},
   "outputs": [],
   "source": [
    "### import vector_add_sum_part2 and use the functions "
   ]
  },
  {
   "cell_type": "code",
   "execution_count": 39,
   "metadata": {},
   "outputs": [],
   "source": [
    "import vector_add_sum_part2 as vec"
   ]
  },
  {
   "cell_type": "code",
   "execution_count": 40,
   "metadata": {},
   "outputs": [
    {
     "name": "stdout",
     "output_type": "stream",
     "text": [
      "[5, 7, 9]\n"
     ]
    }
   ],
   "source": [
    "print(vec.vector_add([1,2,3],[4,5,6]))"
   ]
  },
  {
   "cell_type": "code",
   "execution_count": 41,
   "metadata": {},
   "outputs": [
    {
     "ename": "AttributeError",
     "evalue": "module 'vector_add_sum_part2' has no attribute 'vector_sum'",
     "output_type": "error",
     "traceback": [
      "\u001b[1;31m---------------------------------------------------------------------------\u001b[0m",
      "\u001b[1;31mAttributeError\u001b[0m                            Traceback (most recent call last)",
      "\u001b[1;32mc:\\Users\\la331\\OneDrive\\Documents\\GitHub\\lilaanson.github.io\\extra\\quan\\vector_add_and_sum_part1.ipynb Cell 6\u001b[0m line \u001b[0;36m1\n\u001b[1;32m----> <a href='vscode-notebook-cell:/c%3A/Users/la331/OneDrive/Documents/GitHub/lilaanson.github.io/extra/quan/vector_add_and_sum_part1.ipynb#X12sZmlsZQ%3D%3D?line=0'>1</a>\u001b[0m \u001b[39mprint\u001b[39m(vec\u001b[39m.\u001b[39;49mvector_sum([\u001b[39m1\u001b[39m,\u001b[39m2\u001b[39m,\u001b[39m3\u001b[39m,\u001b[39m4\u001b[39m]))\n",
      "\u001b[1;31mAttributeError\u001b[0m: module 'vector_add_sum_part2' has no attribute 'vector_sum'"
     ]
    }
   ],
   "source": [
    "print(vec.vector_sum([1,2,3,4]))"
   ]
  },
  {
   "cell_type": "code",
   "execution_count": 42,
   "metadata": {},
   "outputs": [
    {
     "ename": "AttributeError",
     "evalue": "module 'vector_add_sum_part2' has no attribute 'norm'",
     "output_type": "error",
     "traceback": [
      "\u001b[1;31m---------------------------------------------------------------------------\u001b[0m",
      "\u001b[1;31mAttributeError\u001b[0m                            Traceback (most recent call last)",
      "\u001b[1;32mc:\\Users\\la331\\OneDrive\\Documents\\GitHub\\lilaanson.github.io\\extra\\quan\\vector_add_and_sum_part1.ipynb Cell 7\u001b[0m line \u001b[0;36m1\n\u001b[1;32m----> <a href='vscode-notebook-cell:/c%3A/Users/la331/OneDrive/Documents/GitHub/lilaanson.github.io/extra/quan/vector_add_and_sum_part1.ipynb#X13sZmlsZQ%3D%3D?line=0'>1</a>\u001b[0m \u001b[39mprint\u001b[39m(vec\u001b[39m.\u001b[39;49mnorm([\u001b[39m-\u001b[39m\u001b[39m2\u001b[39m,\u001b[39m2\u001b[39m]))\n",
      "\u001b[1;31mAttributeError\u001b[0m: module 'vector_add_sum_part2' has no attribute 'norm'"
     ]
    }
   ],
   "source": [
    "print(vec.norm([-2,2]))"
   ]
  },
  {
   "cell_type": "code",
   "execution_count": null,
   "metadata": {},
   "outputs": [],
   "source": [
    "### unit test the functions in vector_add_sum_part2"
   ]
  },
  {
   "cell_type": "code",
   "execution_count": null,
   "metadata": {},
   "outputs": [],
   "source": []
  },
  {
   "cell_type": "code",
   "execution_count": null,
   "metadata": {},
   "outputs": [],
   "source": [
    "### Vector addition and summation using the numpy library"
   ]
  },
  {
   "cell_type": "code",
   "execution_count": null,
   "metadata": {},
   "outputs": [],
   "source": []
  }
 ],
 "metadata": {
  "kernelspec": {
   "display_name": "Python 3 (ipykernel)",
   "language": "python",
   "name": "python3"
  },
  "language_info": {
   "codemirror_mode": {
    "name": "ipython",
    "version": 3
   },
   "file_extension": ".py",
   "mimetype": "text/x-python",
   "name": "python",
   "nbconvert_exporter": "python",
   "pygments_lexer": "ipython3",
   "version": "3.11.5"
  }
 },
 "nbformat": 4,
 "nbformat_minor": 4
}
